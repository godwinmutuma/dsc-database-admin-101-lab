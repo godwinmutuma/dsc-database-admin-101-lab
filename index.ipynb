{
 "cells": [
  {
   "cell_type": "markdown",
   "metadata": {},
   "source": [
    "# Database Admin 101 - Lab\n",
    "\n",
    "## Introduction \n",
    "\n",
    "In this lab, you'll go through the process of designing and creating a database. From there, you'll begin to populate this table with mock data provided to you.\n",
    "\n",
    "## Objectives\n",
    "\n",
    "You will be able to:\n",
    "\n",
    "* Use knowledge of the structure of databases to create a database and populate it"
   ]
  },
  {
   "cell_type": "markdown",
   "metadata": {},
   "source": [
    "## The Scenario\n",
    "\n",
    "You are looking to design a database for a school that will house various information from student grades to contact information, class roster lists and attendance. First, think of how you would design such a database. What tables would you include? What columns would each table have? What would be the primary means to join said tables?"
   ]
  },
  {
   "cell_type": "markdown",
   "metadata": {},
   "source": [
    "## Creating the Database\n",
    "\n",
    "Now that you've put a little thought into how you might design your database, it's time to go ahead and create it! Start by import the necessary packages. Then, create a database called **school.sqlite**."
   ]
  },
  {
   "cell_type": "code",
   "execution_count": 1,
   "metadata": {},
   "outputs": [],
   "source": [
    "# Import necessary packages\n",
    "import sqlite3 \n",
    "conn = sqlite3.connect('school.sqlite')\n",
    "cur = conn.cursor()\n"
   ]
  },
  {
   "cell_type": "code",
   "execution_count": null,
   "metadata": {},
   "outputs": [],
   "source": [
    "# Create the database school.sqlite \n"
   ]
  },
  {
   "cell_type": "markdown",
   "metadata": {},
   "source": [
    "## Create a Table for Contact Information\n",
    "\n",
    "Create a table called contactInfo to house contact information for both students and staff. Be sure to include columns for first name, last name, role (student/staff), telephone number, street, city, state, and zipcode. Be sure to also create a primary key for the table. "
   ]
  },
  {
   "cell_type": "code",
   "execution_count": 2,
   "metadata": {},
   "outputs": [
    {
     "ename": "OperationalError",
     "evalue": "table contactInfo already exists",
     "output_type": "error",
     "traceback": [
      "\u001b[1;31m---------------------------------------------------------------------------\u001b[0m",
      "\u001b[1;31mOperationalError\u001b[0m                          Traceback (most recent call last)",
      "Cell \u001b[1;32mIn[2], line 2\u001b[0m\n\u001b[0;32m      1\u001b[0m \u001b[38;5;66;03m# Your code here\u001b[39;00m\n\u001b[1;32m----> 2\u001b[0m \u001b[43mcur\u001b[49m\u001b[38;5;241;43m.\u001b[39;49m\u001b[43mexecute\u001b[49m\u001b[43m(\u001b[49m\u001b[38;5;124;43m\"\"\"\u001b[39;49m\u001b[38;5;124;43mCREATE TABLE contactInfo (\u001b[39;49m\n\u001b[0;32m      3\u001b[0m \u001b[38;5;124;43m                id SERIAL PRIMARY KEY,\u001b[39;49m\n\u001b[0;32m      4\u001b[0m \u001b[38;5;124;43m                first_name VARCHAR(50),\u001b[39;49m\n\u001b[0;32m      5\u001b[0m \u001b[38;5;124;43m                last_name VARCHAR(50),\u001b[39;49m\n\u001b[0;32m      6\u001b[0m \u001b[38;5;124;43m                role VARCHAR(20),\u001b[39;49m\n\u001b[0;32m      7\u001b[0m \u001b[38;5;124;43m                telephone_number VARCHAR(15),\u001b[39;49m\n\u001b[0;32m      8\u001b[0m \u001b[38;5;124;43m                street VARCHAR(100),\u001b[39;49m\n\u001b[0;32m      9\u001b[0m \u001b[38;5;124;43m                city VARCHAR(50),\u001b[39;49m\n\u001b[0;32m     10\u001b[0m \u001b[38;5;124;43m                state VARCHAR(50),\u001b[39;49m\n\u001b[0;32m     11\u001b[0m \u001b[38;5;124;43m                zipcode VARCHAR(10))\u001b[39;49m\n\u001b[0;32m     12\u001b[0m \u001b[38;5;124;43m                \u001b[39;49m\u001b[38;5;124;43m\"\"\"\u001b[39;49m\u001b[43m)\u001b[49m\n",
      "\u001b[1;31mOperationalError\u001b[0m: table contactInfo already exists"
     ]
    }
   ],
   "source": [
    "# Your code here\n",
    "cur.execute(\"\"\"CREATE TABLE contactInfo (\n",
    "                id SERIAL PRIMARY KEY,\n",
    "                first_name VARCHAR(50),\n",
    "                last_name VARCHAR(50),\n",
    "                role VARCHAR(20),\n",
    "                telephone_number VARCHAR(15),\n",
    "                street VARCHAR(100),\n",
    "                city VARCHAR(50),\n",
    "                state VARCHAR(50),\n",
    "                zipcode VARCHAR(10))\n",
    "                \"\"\")"
   ]
  },
  {
   "cell_type": "markdown",
   "metadata": {},
   "source": [
    "## Populate the Table\n",
    "\n",
    "Below, code is provided for you in order to load a list of dictionaries. Briefly examine the list. Each dictionary in the list will serve as an entry for your contact info table. Once you've briefly investigated the structure of this data, write a for loop to iterate through the list and create an entry in your table for each person's contact info."
   ]
  },
  {
   "cell_type": "code",
   "execution_count": 7,
   "metadata": {},
   "outputs": [],
   "source": [
    "# Load the list of dictionaries; just run this cell\n",
    "import pickle\n",
    "\n",
    "with open('contact_list.pickle', 'rb') as f:\n",
    "    contacts = pickle.load(f)"
   ]
  },
  {
   "cell_type": "code",
   "execution_count": 10,
   "metadata": {},
   "outputs": [],
   "source": [
    "# Iterate over the contact list and populate the contactInfo table here\n",
    "# Assuming `contacts` is a list of dictionaries\n",
    "for contact in contacts:\n",
    "    # Extracting individual values from the contact dictionary\n",
    "    first_name = contact.get('first_name')\n",
    "    last_name = contact.get('last_name')\n",
    "    role = contact.get('role')\n",
    "    telephone_number = contact.get('telephone_number')\n",
    "    street = contact.get('street')\n",
    "    city = contact.get('city')\n",
    "    state = contact.get('state')\n",
    "    zipcode = contact.get('zipcode')\n",
    "\n",
    "    # Insert each contact's details into the contactInfo table\n",
    "    cur.execute(\"\"\"\n",
    "        INSERT INTO contactInfo (first_name, last_name, role, telephone_number, street, city, state, zipcode)\n",
    "        VALUES (?, ?, ?, ?, ?, ?, ?, ?)\n",
    "        \"\"\",\n",
    "        (first_name, last_name, role, telephone_number, street, city, state, zipcode)\n",
    "    )\n",
    "\n",
    "# Commit the changes to the database\n",
    "conn.commit()\n",
    "\n"
   ]
  },
  {
   "cell_type": "markdown",
   "metadata": {},
   "source": [
    "**Query the Table to Ensure it is populated**"
   ]
  },
  {
   "cell_type": "code",
   "execution_count": null,
   "metadata": {},
   "outputs": [],
   "source": [
    "# Your code here \n"
   ]
  },
  {
   "cell_type": "markdown",
   "metadata": {},
   "source": [
    "## Commit Your Changes to the Database\n",
    "\n",
    "Persist your changes by committing them to the database."
   ]
  },
  {
   "cell_type": "code",
   "execution_count": 11,
   "metadata": {},
   "outputs": [],
   "source": [
    "# Your code here\n",
    "conn.commit()"
   ]
  },
  {
   "cell_type": "markdown",
   "metadata": {},
   "source": [
    "## Create a Table for Student Grades\n",
    "\n",
    "Create a new table in the database called \"grades\". In the table, include the following fields: userId, courseId, grade.\n",
    "\n",
    "** This problem is a bit more tricky and will require a dual key. (A nuance you have yet to see.)\n",
    "Here's how to do that:\n",
    "\n",
    "```SQL\n",
    "CREATE TABLE table_name(\n",
    "   column_1 INTEGER NOT NULL,\n",
    "   column_2 INTEGER NOT NULL,\n",
    "   ...\n",
    "   PRIMARY KEY(column_1,column_2,...)\n",
    ");\n",
    "```"
   ]
  },
  {
   "cell_type": "code",
   "execution_count": 16,
   "metadata": {},
   "outputs": [
    {
     "ename": "OperationalError",
     "evalue": "table grades already exists",
     "output_type": "error",
     "traceback": [
      "\u001b[1;31m---------------------------------------------------------------------------\u001b[0m",
      "\u001b[1;31mOperationalError\u001b[0m                          Traceback (most recent call last)",
      "Cell \u001b[1;32mIn[16], line 2\u001b[0m\n\u001b[0;32m      1\u001b[0m \u001b[38;5;66;03m# Create the grades table\u001b[39;00m\n\u001b[1;32m----> 2\u001b[0m \u001b[43mcur\u001b[49m\u001b[38;5;241;43m.\u001b[39;49m\u001b[43mexecute\u001b[49m\u001b[43m(\u001b[49m\u001b[38;5;124;43m\"\"\"\u001b[39;49m\n\u001b[0;32m      3\u001b[0m \u001b[38;5;124;43m    CREATE TABLE grades (\u001b[39;49m\n\u001b[0;32m      4\u001b[0m \u001b[38;5;124;43m        userId INTEGER NOT NULL,\u001b[39;49m\n\u001b[0;32m      5\u001b[0m \u001b[38;5;124;43m        courseId INTEGER NOT NULL,\u001b[39;49m\n\u001b[0;32m      6\u001b[0m \u001b[38;5;124;43m        grade VARCHAR(2),\u001b[39;49m\n\u001b[0;32m      7\u001b[0m \u001b[38;5;124;43m        PRIMARY KEY(userId, courseId)\u001b[39;49m\n\u001b[0;32m      8\u001b[0m \u001b[38;5;124;43m    )\u001b[39;49m\n\u001b[0;32m      9\u001b[0m \u001b[38;5;124;43m\"\"\"\u001b[39;49m\u001b[43m)\u001b[49m\n",
      "\u001b[1;31mOperationalError\u001b[0m: table grades already exists"
     ]
    }
   ],
   "source": [
    "# Create the grades table\n",
    "cur.execute(\"\"\"\n",
    "    CREATE TABLE grades (\n",
    "        userId INTEGER NOT NULL,\n",
    "        courseId INTEGER NOT NULL,\n",
    "        grade VARCHAR(2),\n",
    "        PRIMARY KEY(userId, courseId)\n",
    "    )\n",
    "\"\"\")\n"
   ]
  },
  {
   "cell_type": "code",
   "execution_count": 17,
   "metadata": {},
   "outputs": [],
   "source": [
    "conn.commit()"
   ]
  },
  {
   "cell_type": "markdown",
   "metadata": {},
   "source": [
    "## Remove Duplicate Entries\n",
    "\n",
    "An analyst just realized that there is a duplicate entry in the contactInfo table! Find and remove it."
   ]
  },
  {
   "cell_type": "code",
   "execution_count": 22,
   "metadata": {},
   "outputs": [
    {
     "name": "stdout",
     "output_type": "stream",
     "text": [
      "[(None, None, 'staff', None, 2), (None, None, 'student', None, 6)]\n"
     ]
    }
   ],
   "source": [
    "# Find the duplicate entry\n",
    "cur.execute(\"\"\"\n",
    "    SELECT first_name, last_name, role, telephone_number, COUNT(*)\n",
    "    FROM contactInfo\n",
    "    GROUP BY first_name, last_name, role, telephone_number\n",
    "    HAVING COUNT(*) > 1;\n",
    "\"\"\")\n",
    "duplicates = cur.fetchall()\n",
    "print(duplicates)"
   ]
  },
  {
   "cell_type": "code",
   "execution_count": 23,
   "metadata": {},
   "outputs": [],
   "source": [
    "# Delete the duplicate entry\n",
    "cur.execute(\"\"\"\n",
    "    DELETE FROM contactInfo\n",
    "    WHERE id NOT IN (\n",
    "        SELECT MIN(id)\n",
    "        FROM contactInfo\n",
    "        GROUP BY first_name, last_name, role, telephone_number\n",
    "    );\n",
    "\"\"\")\n",
    "conn.commit()"
   ]
  },
  {
   "cell_type": "code",
   "execution_count": 24,
   "metadata": {},
   "outputs": [
    {
     "name": "stdout",
     "output_type": "stream",
     "text": [
      "[(None, None, 'staff', None, 2), (None, None, 'student', None, 6)]\n"
     ]
    }
   ],
   "source": [
    "# Check that the duplicate entry was removed\n",
    "cur.execute(\"\"\"\n",
    "    SELECT first_name, last_name, role, telephone_number, COUNT(*)\n",
    "    FROM contactInfo\n",
    "    GROUP BY first_name, last_name, role, telephone_number\n",
    "    HAVING COUNT(*) > 1;\n",
    "\"\"\")\n",
    "no_duplicates = cur.fetchall()\n",
    "print(no_duplicates)  # This should return an empty list if all duplicates are removed"
   ]
  },
  {
   "cell_type": "markdown",
   "metadata": {},
   "source": [
    "## Updating an Address\n",
    "\n",
    "Ed Lyman just moved to `2910 Simpson Avenue York, PA 17403`. Update his address accordingly."
   ]
  },
  {
   "cell_type": "code",
   "execution_count": 26,
   "metadata": {},
   "outputs": [],
   "source": [
    "# Update Ed's address\n",
    "# Update Ed Lyman's address\n",
    "cur.execute(\"\"\"\n",
    "    UPDATE contactInfo\n",
    "    SET street = '2910 Simpson Avenue',\n",
    "        city = 'York',\n",
    "        state = 'PA',\n",
    "        zipcode = '17403'\n",
    "    WHERE first_name = 'Ed' AND last_name = 'Lyman';\n",
    "\"\"\")\n",
    "\n",
    "# Commit the changes to the database\n",
    "conn.commit()\n"
   ]
  },
  {
   "cell_type": "code",
   "execution_count": 27,
   "metadata": {},
   "outputs": [
    {
     "name": "stdout",
     "output_type": "stream",
     "text": [
      "[]\n"
     ]
    }
   ],
   "source": [
    "# Query the database to ensure the change was made\n",
    "# Query the database to check Ed Lyman's updated address\n",
    "cur.execute(\"\"\"\n",
    "    SELECT *\n",
    "    FROM contactInfo\n",
    "    WHERE first_name = 'Ed' AND last_name = 'Lyman';\n",
    "\"\"\")\n",
    "\n",
    "# Fetch the result\n",
    "ed_info = cur.fetchall()\n",
    "\n",
    "# Print the result to verify the update\n",
    "print(ed_info)\n"
   ]
  },
  {
   "cell_type": "markdown",
   "metadata": {},
   "source": [
    "## Commit Your Changes to the Database\n",
    "\n",
    "Once again, persist your changes by committing them to the database."
   ]
  },
  {
   "cell_type": "code",
   "execution_count": 28,
   "metadata": {},
   "outputs": [],
   "source": [
    "# Your code here\n",
    "conn.commit()\n"
   ]
  },
  {
   "cell_type": "markdown",
   "metadata": {},
   "source": [
    "## Summary\n",
    "\n",
    "While there's certainly more to do with setting up and managing this database, you got a taste for creating, populating, and maintaining databases! Feel free to continue fleshing out this exercise for more practice. "
   ]
  }
 ],
 "metadata": {
  "kernelspec": {
   "display_name": "Python 3 (ipykernel)",
   "language": "python",
   "name": "python3"
  },
  "language_info": {
   "codemirror_mode": {
    "name": "ipython",
    "version": 3
   },
   "file_extension": ".py",
   "mimetype": "text/x-python",
   "name": "python",
   "nbconvert_exporter": "python",
   "pygments_lexer": "ipython3",
   "version": "3.8.5"
  },
  "toc": {
   "base_numbering": 1,
   "nav_menu": {},
   "number_sections": true,
   "sideBar": true,
   "skip_h1_title": false,
   "title_cell": "Table of Contents",
   "title_sidebar": "Contents",
   "toc_cell": false,
   "toc_position": {},
   "toc_section_display": true,
   "toc_window_display": false
  }
 },
 "nbformat": 4,
 "nbformat_minor": 4
}
